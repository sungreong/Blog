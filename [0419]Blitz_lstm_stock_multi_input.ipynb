{
 "cells": [
  {
   "cell_type": "code",
   "execution_count": 1,
   "metadata": {},
   "outputs": [],
   "source": [
    "import pandas as pd\n",
    "import numpy as np\n",
    "\n",
    "import torch\n",
    "import torch.nn as nn\n",
    "import torch.optim as optim\n",
    "import torch.nn.functional as F\n",
    "\n",
    "from blitz.modules import BayesianLSTM\n",
    "from blitz.utils import variational_estimator\n",
    "\n",
    "from sklearn.model_selection import train_test_split\n",
    "from sklearn.preprocessing import StandardScaler\n",
    "\n",
    "import matplotlib.pyplot as plt\n",
    "%matplotlib inline\n",
    "\n",
    "from collections import deque"
   ]
  },
  {
   "cell_type": "code",
   "execution_count": 2,
   "metadata": {},
   "outputs": [
    {
     "name": "stdout",
     "output_type": "stream",
     "text": [
      "/home/advice/Python/SR/SubProject/2020/BayesianNN\r\n"
     ]
    }
   ],
   "source": [
    "!pwd"
   ]
  },
  {
   "cell_type": "code",
   "execution_count": 3,
   "metadata": {},
   "outputs": [],
   "source": [
    "data_path = \"/home/advice/Python/SR/SubProject/2020/03/data/korean_stock/한미반도체_일봉데이터.csv\"\n",
    "df = pd.read_csv(data_path)\n",
    "col = df.columns.tolist()\n",
    "## https://www.kaggle.com/szrlee/stock-time-series-20050101-to-20171231#JNJ_2006-01-01_to_2018-01-01.csv"
   ]
  },
  {
   "cell_type": "code",
   "execution_count": 4,
   "metadata": {},
   "outputs": [],
   "source": [
    "if 'Unnamed: 0' in col :\n",
    "    df = df.rename(columns = {'Unnamed: 0' : \"date\"})\n",
    "a = ['date', 'open', 'high', 'low', 'close', 'volume']\n",
    "b = ['Date', 'Open', 'High', 'Low', 'Close', 'Volume']\n",
    "df = df.rename(columns= dict(zip(a,b)))\n",
    "df.Date = pd.to_datetime(df.Date, format='%Y%m%d')\n",
    "df.sort_values(\"Date\",ascending=True , inplace=True)\n",
    "df = df[df.Date > \"2000-01-01\"]\n",
    "df.reset_index(drop=True , inplace=True)"
   ]
  },
  {
   "cell_type": "code",
   "execution_count": 5,
   "metadata": {},
   "outputs": [],
   "source": [
    "# close_prices = df[\"Close\"]\n",
    "# scaler = StandardScaler()\n",
    "# close_prices_arr = np.array(close_prices).reshape(-1, 1)\n",
    "# close_prices = scaler.fit_transform(close_prices_arr)\n",
    "# close_prices_unscaled = df[\"Close\"]"
   ]
  },
  {
   "cell_type": "code",
   "execution_count": 6,
   "metadata": {},
   "outputs": [],
   "source": [
    "scaler = StandardScaler()\n",
    "ycol = [\"Close\"]\n",
    "xcol = ['Open', 'High', 'Low', 'Close', 'Volume']\n",
    "xxcol = ['Open', 'High', 'Low', 'Volume']\n",
    "close_prices_unscaled = df[\"Close\"]\n",
    "df[xxcol] = scaler.fit_transform(df[xxcol])\n",
    "y_scaler = StandardScaler()\n",
    "df[ycol] = y_scaler.fit_transform(df[ycol])"
   ]
  },
  {
   "cell_type": "code",
   "execution_count": 7,
   "metadata": {},
   "outputs": [],
   "source": [
    "from tqdm import tqdm_notebook\n",
    "def build_timeseries(data:pd.DataFrame, ycol:list, \n",
    "                     TIME_STEPS:int,usecol, \n",
    "                     predict_day:int=1, \n",
    "                     date_col:str=None):\n",
    "    mat = data[usecol].values\n",
    "    Date = data[date_col].astype(str).values.tolist()\n",
    "    yy = data[ycol].values.reshape(-1,1)\n",
    "    # y_col_index is the index of column that would act as output column\n",
    "    # total number of time-series samples would be len(mat) - TIME_STEPS\n",
    "    dim_0 = mat.shape[0] - TIME_STEPS - predict_day\n",
    "    dim_1 = mat.shape[1]\n",
    "    x = np.zeros((dim_0, TIME_STEPS, dim_1))\n",
    "    y = []\n",
    "    date = []\n",
    "    for i in tqdm_notebook(range(dim_0)):\n",
    "        x[i] = mat[i:(TIME_STEPS+i)]\n",
    "        if predict_day == 1 :\n",
    "            _y = yy[i+ TIME_STEPS+predict_day-1]\n",
    "            _date = Date[i+ TIME_STEPS+predict_day-1]\n",
    "        elif predict_day == 30 :\n",
    "            _y = yy[i+ TIME_STEPS+predict_day-1]\n",
    "            _date = Date[i+ TIME_STEPS+predict_day-1]\n",
    "        else :\n",
    "            _y = yy[(i+TIME_STEPS):(i+predict_day+TIME_STEPS)]\n",
    "            _date = Date[(i+TIME_STEPS):(i+predict_day+TIME_STEPS)]\n",
    "        y.append(_y)\n",
    "        date.append(_date)\n",
    "    \n",
    "    features = torch.tensor(x).float()\n",
    "    labels = torch.tensor(np.asarray(y)).float()\n",
    "    \n",
    "    print(\"length of time-series i/o\",x.shape,np.asarray(y).shape)\n",
    "    return features , labels , np.asarray(date)"
   ]
  },
  {
   "cell_type": "code",
   "execution_count": 8,
   "metadata": {},
   "outputs": [],
   "source": [
    "@variational_estimator\n",
    "class NN(nn.Module):\n",
    "    def __init__(self, usecol_n):\n",
    "        super(NN, self).__init__()\n",
    "        self.lstm_1 = BayesianLSTM(usecol_n, 10)\n",
    "        self.linear = nn.Linear(10, 1)\n",
    "            \n",
    "    def forward(self, x):\n",
    "        x_, _ = self.lstm_1(x)\n",
    "        \n",
    "        #gathering only the latent end-of-sequence for the linear layer\n",
    "        x_ = x_[:, -1, :]\n",
    "        x_ = self.linear(x_)\n",
    "        return x_"
   ]
  },
  {
   "cell_type": "code",
   "execution_count": 9,
   "metadata": {},
   "outputs": [
    {
     "name": "stderr",
     "output_type": "stream",
     "text": [
      "/root/anaconda3/lib/python3.6/site-packages/ipykernel_launcher.py:16: TqdmDeprecationWarning: This function will be removed in tqdm==5.0.0\n",
      "Please use `tqdm.notebook.tqdm` instead of `tqdm.tqdm_notebook`\n",
      "  app.launch_new_instance()\n"
     ]
    },
    {
     "data": {
      "application/vnd.jupyter.widget-view+json": {
       "model_id": "674ca34d8ecb437ba024408b85c322a8",
       "version_major": 2,
       "version_minor": 0
      },
      "text/plain": [
       "HBox(children=(FloatProgress(value=0.0, max=3334.0), HTML(value='')))"
      ]
     },
     "metadata": {},
     "output_type": "display_data"
    },
    {
     "name": "stdout",
     "output_type": "stream",
     "text": [
      "\n",
      "length of time-series i/o (3334, 17, 5) (3334, 1)\n"
     ]
    }
   ],
   "source": [
    "TIME_STEPS = 17\n",
    "predict_day = 1\n",
    "dataX , dataY ,dataDate = build_timeseries(data=df , ycol = \"Close\",\n",
    "                                     TIME_STEPS=TIME_STEPS,\n",
    "                                     predict_day=predict_day,\n",
    "                                     usecol =xcol,\n",
    "                                     date_col = \"Date\")\n",
    "dataDate = dataDate.reshape(-1,1)"
   ]
  },
  {
   "cell_type": "code",
   "execution_count": 10,
   "metadata": {},
   "outputs": [],
   "source": [
    "n = 200\n",
    "date_col = \"Date\"\n",
    "time_seq = df[date_col].shift(-(predict_day+ TIME_STEPS)).dropna().astype(str).values.tolist()\n",
    "X_train ,  y_train, trainDate =dataX[:-n,:,:] , dataY[:-n,:]  , dataDate[:-n,:]\n",
    "X_test , y_test , testDate =dataX[-n:,:,:] , dataY[-n:,:] , dataDate[-n:,:]"
   ]
  },
  {
   "cell_type": "code",
   "execution_count": 11,
   "metadata": {},
   "outputs": [],
   "source": [
    "ds = torch.utils.data.TensorDataset(X_train, y_train)\n",
    "dataloader_train = torch.utils.data.DataLoader(ds, batch_size=8, shuffle=True)\n",
    "net = NN(len(xcol))\n",
    "criterion = nn.MSELoss()\n",
    "optimizer = optim.Adam(net.parameters(), lr=0.001)"
   ]
  },
  {
   "cell_type": "code",
   "execution_count": 12,
   "metadata": {},
   "outputs": [],
   "source": [
    "# lstm_1 = BayesianLSTM(5, 10)\n",
    "# lstm_1(X_train)"
   ]
  },
  {
   "cell_type": "code",
   "execution_count": 14,
   "metadata": {},
   "outputs": [
    {
     "name": "stdout",
     "output_type": "stream",
     "text": [
      "Iteration: 0 Val-loss: 0.0228\n",
      "Iteration: 10 Val-loss: 0.0193\n",
      "Iteration: 20 Val-loss: 0.0357\n",
      "Iteration: 30 Val-loss: 0.0219\n",
      "Iteration: 40 Val-loss: 0.0738\n"
     ]
    }
   ],
   "source": [
    "iteration = 0\n",
    "for epoch in range(50):\n",
    "    for i, (datapoints, labels) in enumerate(dataloader_train):\n",
    "        optimizer.zero_grad()\n",
    "        \n",
    "        loss = net.sample_elbo(inputs=datapoints,\n",
    "                               labels=labels,\n",
    "                               criterion=criterion,\n",
    "                               sample_nbr=3)\n",
    "        loss.backward()\n",
    "        optimizer.step()\n",
    "        \n",
    "#         iteration += 1\n",
    "    if epoch % 10 ==0:\n",
    "        preds_test = net(X_test)[:,0].unsqueeze(1)\n",
    "        loss_test = criterion(preds_test, y_test)\n",
    "        print(\"Epoch: {} Val-loss: {:.4f}\".format(str(epoch), loss_test))"
   ]
  },
  {
   "cell_type": "code",
   "execution_count": 15,
   "metadata": {},
   "outputs": [],
   "source": [
    "\n",
    "#pred_unscaled\n",
    "original = close_prices_unscaled[1:][TIME_STEPS:]\n",
    "\n",
    "df_pred = pd.DataFrame(original)\n",
    "df_pred[\"Date\"] = df.Date\n",
    "df[\"Date\"] = pd.to_datetime(df_pred[\"Date\"])\n",
    "df_pred = df_pred.reset_index()\n",
    "#df_pred = df_pred.set_index('Date')"
   ]
  },
  {
   "cell_type": "code",
   "execution_count": 23,
   "metadata": {},
   "outputs": [],
   "source": [
    "def pred_stock_future(X_test,future_length,sample_nbr=10,TIME_STEPS=None):\n",
    "    \n",
    "    #sorry for that, window_size is a global variable, and so are X_train and Xs\n",
    "    global X_train\n",
    "    global dataX\n",
    "    \n",
    "    #creating auxiliar variables for future prediction\n",
    "    preds_test = []\n",
    "    test_begin = X_test[0:1, :, :]\n",
    "    test_deque = deque(test_begin[0,:,0].tolist(), maxlen=TIME_STEPS)\n",
    "\n",
    "    idx_pred = np.arange(len(X_train), len(dataX))\n",
    "    \n",
    "    #predict it and append to list\n",
    "    for i in range(len(X_test)):\n",
    "        #print(i)\n",
    "#         as_net_input = torch.tensor(test_deque).unsqueeze(0).unsqueeze(2)\n",
    "        as_net_input = X_test[[i],:,:]\n",
    "        pred = [net(as_net_input).cpu().item() for i in range(sample_nbr)]\n",
    "        \n",
    "        \n",
    "        test_deque.append(torch.tensor(pred).mean().cpu().item())\n",
    "        preds_test.append(pred)\n",
    "        \n",
    "        if i % future_length == 0:\n",
    "            #our inptus become the i index of our X_test\n",
    "            #That tweak just helps us with shape issues\n",
    "            test_begin = X_test[i:i+1, :, :]\n",
    "            test_deque = deque(test_begin[0,:,0].tolist(), maxlen=TIME_STEPS)\n",
    "\n",
    "    #preds_test = np.array(preds_test).reshape(-1, 1)\n",
    "    #preds_test_unscaled = scaler.inverse_transform(preds_test)\n",
    "    \n",
    "    return idx_pred, preds_test"
   ]
  },
  {
   "cell_type": "code",
   "execution_count": 24,
   "metadata": {},
   "outputs": [],
   "source": [
    "def get_confidence_intervals(preds_test, ci_multiplier,scaler):\n",
    "    preds_test = torch.tensor(preds_test)\n",
    "    \n",
    "    pred_mean = preds_test.mean(1)\n",
    "    pred_std = preds_test.std(1).detach().cpu().numpy()\n",
    "\n",
    "    pred_std = torch.tensor((pred_std))\n",
    "    \n",
    "    upper_bound = pred_mean + (pred_std * ci_multiplier)\n",
    "    lower_bound = pred_mean - (pred_std * ci_multiplier)\n",
    "    #gather unscaled confidence intervals\n",
    "\n",
    "    pred_mean_final = pred_mean.unsqueeze(1).detach().cpu().numpy()\n",
    "    pred_mean_unscaled = scaler.inverse_transform(pred_mean_final)\n",
    "\n",
    "    upper_bound_unscaled = upper_bound.unsqueeze(1).detach().cpu().numpy()\n",
    "    upper_bound_unscaled = scaler.inverse_transform(upper_bound_unscaled)\n",
    "    \n",
    "    lower_bound_unscaled = lower_bound.unsqueeze(1).detach().cpu().numpy()\n",
    "    lower_bound_unscaled = scaler.inverse_transform(lower_bound_unscaled)\n",
    "    \n",
    "    return pred_mean_unscaled, upper_bound_unscaled, lower_bound_unscaled"
   ]
  },
  {
   "cell_type": "code",
   "execution_count": 25,
   "metadata": {},
   "outputs": [],
   "source": [
    "future_length=7\n",
    "sample_nbr=4\n",
    "ci_multiplier=10\n",
    "idx_pred, preds_test = pred_stock_future(X_test, future_length, sample_nbr, TIME_STEPS=TIME_STEPS)\n",
    "pred_mean_unscaled, upper_bound_unscaled, lower_bound_unscaled =\\\n",
    "get_confidence_intervals(preds_test,ci_multiplier, y_scaler)"
   ]
  },
  {
   "cell_type": "code",
   "execution_count": 26,
   "metadata": {},
   "outputs": [
    {
     "name": "stdout",
     "output_type": "stream",
     "text": [
      "0.0 our predictions are in our confidence interval\n"
     ]
    }
   ],
   "source": [
    "y = df.iloc[idx_pred,:][\"Close\"].values.reshape(-1,1)\n",
    "under_upper = upper_bound_unscaled > y\n",
    "over_lower = lower_bound_unscaled < y\n",
    "total = (under_upper == over_lower)\n",
    "\n",
    "print(\"{} our predictions are in our confidence interval\".format(np.mean(total)))"
   ]
  },
  {
   "cell_type": "code",
   "execution_count": 27,
   "metadata": {},
   "outputs": [
    {
     "data": {
      "text/plain": [
       "(200, 1)"
      ]
     },
     "execution_count": 27,
     "metadata": {},
     "output_type": "execute_result"
    }
   ],
   "source": [
    "upper_bound_unscaled.shape"
   ]
  },
  {
   "cell_type": "code",
   "execution_count": 28,
   "metadata": {},
   "outputs": [
    {
     "data": {
      "text/plain": [
       "<matplotlib.legend.Legend at 0x7fab13bb6eb8>"
      ]
     },
     "execution_count": 28,
     "metadata": {},
     "output_type": "execute_result"
    },
    {
     "data": {
      "image/png": "[encoded data removed]",
      "text/plain": [
       "<Figure size 432x288 with 1 Axes>"
      ]
     },
     "metadata": {
      "needs_background": "dark"
     },
     "output_type": "display_data"
    }
   ],
   "source": [
    "params = {\"ytick.color\" : \"w\",\n",
    "          \"xtick.color\" : \"w\",\n",
    "          \"axes.labelcolor\" : \"w\",\n",
    "          \"axes.edgecolor\" : \"w\"}\n",
    "\n",
    "plt.rcParams.update(params)\n",
    "\n",
    "plt.title(\"IBM Stock prices\", color=\"white\")\n",
    "\n",
    "plt.plot(df_pred.index,\n",
    "         df_pred.Close,\n",
    "         color='black',\n",
    "         label=\"Real\")\n",
    "\n",
    "plt.plot(idx_pred,\n",
    "         pred_mean_unscaled,\n",
    "         label=\"Prediction for {} days, than consult\".format(future_length),\n",
    "         color=\"red\")\n",
    "\n",
    "plt.fill_between(x=idx_pred,\n",
    "                 y1=upper_bound_unscaled[:,0],\n",
    "                 y2=lower_bound_unscaled[:,0],\n",
    "                 facecolor='green',\n",
    "                 label=\"Confidence interval\",\n",
    "                 alpha=0.5)\n",
    "\n",
    "plt.legend()"
   ]
  },
  {
   "cell_type": "code",
   "execution_count": 31,
   "metadata": {},
   "outputs": [
    {
     "data": {
      "text/plain": [
       "<matplotlib.legend.Legend at 0x7fab13a80eb8>"
      ]
     },
     "execution_count": 31,
     "metadata": {},
     "output_type": "execute_result"
    },
    {
     "data": {
      "image/png": "[encoded data removed]",
      "text/plain": [
       "<Figure size 432x288 with 1 Axes>"
      ]
     },
     "metadata": {
      "needs_background": "dark"
     },
     "output_type": "display_data"
    }
   ],
   "source": [
    "params = {\"ytick.color\" : \"w\",\n",
    "          \"xtick.color\" : \"w\",\n",
    "          \"axes.labelcolor\" : \"w\",\n",
    "          \"axes.edgecolor\" : \"w\"}\n",
    "plt.rcParams.update(params)\n",
    "\n",
    "plt.title(\"IBM Stock prices\", color=\"white\")\n",
    "\n",
    "\n",
    "plt.fill_between(x=idx_pred,\n",
    "                 y1=upper_bound_unscaled[:,0],\n",
    "                 y2=lower_bound_unscaled[:,0],\n",
    "                 facecolor='green',\n",
    "                 label=\"Confidence interval\",\n",
    "                 alpha=0.75)\n",
    "\n",
    "plt.plot(idx_pred,\n",
    "         df_pred.Close[-len(pred_mean_unscaled):],\n",
    "         label=\"Real\",\n",
    "         alpha=1,\n",
    "         color='black',\n",
    "         linewidth=0.5)\n",
    "\n",
    "plt.plot(idx_pred,\n",
    "         pred_mean_unscaled,\n",
    "         label=\"Prediction for {} days, than consult\".format(future_length),\n",
    "         color=\"red\",\n",
    "         alpha=0.5)\n",
    "\n",
    "plt.legend()"
   ]
  },
  {
   "cell_type": "code",
   "execution_count": null,
   "metadata": {},
   "outputs": [],
   "source": []
  },
  {
   "cell_type": "code",
   "execution_count": null,
   "metadata": {},
   "outputs": [],
   "source": []
  }
 ],
 "metadata": {
  "kernelspec": {
   "display_name": "base",
   "language": "python",
   "name": "base"
  }
 },
 "nbformat": 4,
 "nbformat_minor": 2
}
